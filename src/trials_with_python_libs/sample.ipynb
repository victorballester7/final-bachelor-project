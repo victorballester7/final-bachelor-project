{
 "cells": [
  {
   "cell_type": "code",
   "execution_count": 4,
   "metadata": {},
   "outputs": [],
   "source": [
    "# Get the position and velocity of each TLE from a file\n",
    "from sgp4.api import Satrec\n",
    "import sys\n",
    "import os\n",
    "import numpy as np\n"
   ]
  },
  {
   "cell_type": "code",
   "execution_count": 5,
   "metadata": {},
   "outputs": [],
   "source": [
    "satellite_name = \"ISS\"\n",
    "filename_in =\"../../data/tle/\"+ satellite_name + \".txt\"\n",
    "with open(filename_in, \"r\") as f:\n",
    "  lines = f.readlines()"
   ]
  },
  {
   "cell_type": "code",
   "execution_count": 6,
   "metadata": {},
   "outputs": [],
   "source": [
    "L=[]\n",
    "for i in range(0, len(lines)):\n",
    "  if i % 2 == 0:\n",
    "    line1 = lines[i]\n",
    "    line2 = lines[i + 1]\n",
    "    satellite = Satrec.twoline2rv(line1, line2)\n",
    "    jd = satellite.jdsatepoch\n",
    "    jd_frac = satellite.jdsatepochF\n",
    "    e, r, v = satellite.sgp4(jd, jd_frac)\n",
    "    if (e != 0):\n",
    "      print(\"ERROR!!!!!!!!!!\")\n",
    "    mdjd = jd - 2400000.5\n",
    "    L.append([mdjd, jd_frac, r, v])"
   ]
  },
  {
   "cell_type": "code",
   "execution_count": null,
   "metadata": {},
   "outputs": [],
   "source": []
  }
 ],
 "metadata": {
  "kernelspec": {
   "display_name": "Python 3",
   "language": "python",
   "name": "python3"
  },
  "language_info": {
   "codemirror_mode": {
    "name": "ipython",
    "version": 3
   },
   "file_extension": ".py",
   "mimetype": "text/x-python",
   "name": "python",
   "nbconvert_exporter": "python",
   "pygments_lexer": "ipython3",
   "version": "3.11.3"
  },
  "orig_nbformat": 4
 },
 "nbformat": 4,
 "nbformat_minor": 2
}
