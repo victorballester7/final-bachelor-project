{
 "cells": [
  {
   "cell_type": "code",
   "execution_count": 9,
   "metadata": {},
   "outputs": [],
   "source": [
    "# import datetime\n",
    "# from orbit_predictor.sources import get_predictor_from_tle_lines\n",
    "# import ephem\n",
    "from sgp4.api import Satrec\n",
    "# from math import sqrt\n",
    "# import numpy as np"
   ]
  },
  {
   "cell_type": "code",
   "execution_count": 2,
   "metadata": {},
   "outputs": [],
   "source": [
    "TLE_LINES = (\n",
    "    \"1 44713U 19074A   23001.33310695  .00000538  00000-0  55037-4 0  9996\",\n",
    "    \"2 44713  53.0541   9.1431 0002180  39.3908 320.7239 15.06389052173400\"\n",
    ")\n",
    "name = \"STARLINK\"\n"
   ]
  },
  {
   "cell_type": "code",
   "execution_count": 10,
   "metadata": {},
   "outputs": [],
   "source": [
    "TLE_LINES = (\n",
    "    \"1 25544U 98067A   23001.26991367  .00015968  00000-0  28903-3 0  9993\",\n",
    "    \"2 25544  51.6448  75.3411 0005204 209.5406 257.0907 15.49811030375904\"\n",
    ")\n",
    "name = \"ISS (ZARYA)\"\n"
   ]
  },
  {
   "cell_type": "code",
   "execution_count": 11,
   "metadata": {},
   "outputs": [],
   "source": [
    "line1 = TLE_LINES[0]\n",
    "line2 = TLE_LINES[1]"
   ]
  },
  {
   "cell_type": "code",
   "execution_count": 6,
   "metadata": {},
   "outputs": [],
   "source": [
    "predictor = get_predictor_from_tle_lines(TLE_LINES)\n",
    "L = predictor.get_position(datetime.datetime(2023,1,1,17,32,55))  "
   ]
  },
  {
   "cell_type": "code",
   "execution_count": 7,
   "metadata": {},
   "outputs": [
    {
     "data": {
      "text/plain": [
       "Position(when_utc=datetime.datetime(2023, 5, 24, 9, 56, 49, 987064), position_ecef=(2785.3038860385927, -3217.8235568895525, -5470.226357090315), velocity_ecef=(4.8175716122521415, 5.771944398524003, -0.9437102787403271), error_estimate=None)"
      ]
     },
     "execution_count": 7,
     "metadata": {},
     "output_type": "execute_result"
    }
   ],
   "source": [
    "predictor.get_position(datetime.datetime.now())"
   ]
  },
  {
   "cell_type": "code",
   "execution_count": 13,
   "metadata": {},
   "outputs": [],
   "source": [
    "tle_rec = ephem.readtle(name, line1, line2)\n",
    "tle_rec.compute()\n"
   ]
  },
  {
   "attachments": {},
   "cell_type": "markdown",
   "metadata": {},
   "source": [
    "### SGP4 lib"
   ]
  },
  {
   "cell_type": "code",
   "execution_count": 12,
   "metadata": {},
   "outputs": [],
   "source": [
    "satellite=Satrec.twoline2rv(line1, line2)"
   ]
  },
  {
   "cell_type": "code",
   "execution_count": 13,
   "metadata": {},
   "outputs": [
    {
     "name": "stdout",
     "output_type": "stream",
     "text": [
      "2459945.5\n",
      "0.26991367\n"
     ]
    }
   ],
   "source": [
    "print(satellite.jdsatepoch)\n",
    "print(satellite.jdsatepochF)\n"
   ]
  },
  {
   "cell_type": "code",
   "execution_count": 14,
   "metadata": {},
   "outputs": [
    {
     "name": "stdout",
     "output_type": "stream",
     "text": [
      "0 -4398.682067 -854.238350 5100.905984 -0.544288 -7.448078 -1.717692\n",
      "1 -4421.260325 -1298.829535 4986.230934 -0.208022 -7.365991 -2.103374\n",
      "2 -4423.624429 -1737.482416 4848.693373 0.129262 -7.250206 -2.479487\n",
      "3 -4405.759404 -2168.189818 4688.919352 0.466027 -7.101237 -2.844308\n",
      "4 -4367.742571 -2588.979975 4507.636943 0.800734 -6.919752 -3.196160\n",
      "5 -4309.743330 -2997.925543 4305.673063 1.131854 -6.706563 -3.533426\n",
      "6 -4232.022528 -3393.152461 4083.949841 1.457869 -6.462633 -3.854552\n",
      "7 -4134.931407 -3772.848614 3843.480536 1.777284 -6.189064 -4.158056\n",
      "8 -4018.910139 -4135.272246 3585.365025 2.088631 -5.887098 -4.442532\n",
      "9 -3884.485946 -4478.760085 3310.784855 2.390479 -5.558109 -4.706665\n"
     ]
    }
   ],
   "source": [
    "# print positions and velocities for 1-minute intervals\n",
    "max_min = 10\n",
    "for i in range(0, max_min):\n",
    "    frac_min = i / (60 * 24) \n",
    "    e, r, v = satellite.sgp4(satellite.jdsatepoch, satellite.jdsatepochF + frac_min)\n",
    "    # only 6 digits after the decimal in the output\n",
    "    x = \"%.6f\" % r[0]\n",
    "    y = \"%.6f\" % r[1]\n",
    "    z = \"%.6f\" % r[2]\n",
    "    vx = \"%.6f\" % v[0]\n",
    "    vy = \"%.6f\" % v[1]\n",
    "    vz = \"%.6f\" % v[2]\n",
    "    print(i, x, y, z, vx, vy, vz)"
   ]
  },
  {
   "cell_type": "code",
   "execution_count": 8,
   "metadata": {},
   "outputs": [],
   "source": [
    "# print positions and velocities to a file\n",
    "with open('../../data/teme/sgp4-teme.txt', 'w') as f:\n",
    "    for i in range(0, max_min):\n",
    "        frac_min = i / (60 * 24) \n",
    "        e, r, v = satellite.sgp4(satellite.jdsatepoch, satellite.jdsatepochF + frac_min)\n",
    "        f.write(\n",
    "            f\"{satellite.jdsatepoch} {satellite.jdsatepochF + frac_min} {r[0]} {r[1]} {r[2]} {v[0]} {v[1]} {v[2]}\\n\")\n"
   ]
  },
  {
   "attachments": {},
   "cell_type": "markdown",
   "metadata": {},
   "source": [
    "### Skyfield lib"
   ]
  },
  {
   "cell_type": "code",
   "execution_count": 15,
   "metadata": {},
   "outputs": [],
   "source": [
    "from skyfield.api import load, wgs84, EarthSatellite, Topos"
   ]
  },
  {
   "cell_type": "code",
   "execution_count": 16,
   "metadata": {},
   "outputs": [],
   "source": [
    "ts = load.timescale()\n",
    "satellite_sky = EarthSatellite(line1, line2, 'ISS', ts)\n"
   ]
  },
  {
   "cell_type": "code",
   "execution_count": 17,
   "metadata": {},
   "outputs": [
    {
     "name": "stdout",
     "output_type": "stream",
     "text": [
      "[-4391.71137577  -831.46977883  5110.66513642]\n",
      "[-0.58639179 -7.445225   -1.71620452]\n"
     ]
    }
   ],
   "source": [
    "geocentric = satellite_sky.at(satellite_sky.epoch)\n",
    "print(geocentric.position.km)\n",
    "print(geocentric.velocity.km_per_s)\n"
   ]
  },
  {
   "cell_type": "code",
   "execution_count": 24,
   "metadata": {},
   "outputs": [],
   "source": [
    "mine = np.array([6835086.828726, 1107352.760631, 9550.439149])"
   ]
  },
  {
   "cell_type": "code",
   "execution_count": 27,
   "metadata": {},
   "outputs": [
    {
     "data": {
      "text/plain": [
       "49439.129265730095"
      ]
     },
     "execution_count": 27,
     "metadata": {},
     "output_type": "execute_result"
    }
   ],
   "source": [
    "sum((geocentric.position.m - mine)**2)**0.5"
   ]
  },
  {
   "cell_type": "code",
   "execution_count": null,
   "metadata": {},
   "outputs": [],
   "source": []
  }
 ],
 "metadata": {
  "kernelspec": {
   "display_name": "Python 3",
   "language": "python",
   "name": "python3"
  },
  "language_info": {
   "codemirror_mode": {
    "name": "ipython",
    "version": 3
   },
   "file_extension": ".py",
   "mimetype": "text/x-python",
   "name": "python",
   "nbconvert_exporter": "python",
   "pygments_lexer": "ipython3",
   "version": "3.10.10"
  },
  "orig_nbformat": 4
 },
 "nbformat": 4,
 "nbformat_minor": 2
}
