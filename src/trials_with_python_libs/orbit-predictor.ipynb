{
 "cells": [
  {
   "cell_type": "code",
   "execution_count": 4,
   "metadata": {},
   "outputs": [],
   "source": [
    "import datetime\n",
    "from orbit_predictor.sources import get_predictor_from_tle_lines\n",
    "import ephem\n",
    "from sgp4.api import Satrec"
   ]
  },
  {
   "cell_type": "code",
   "execution_count": 5,
   "metadata": {},
   "outputs": [],
   "source": [
    "TLE_LINES = (\n",
    "    \"1 44713U 19074A   23001.33310695  .00000538  00000-0  55037-4 0  9996\",\n",
    "    \"2 44713  53.0541   9.1431 0002180  39.3908 320.7239 15.06389052173400\"\n",
    ")"
   ]
  },
  {
   "cell_type": "code",
   "execution_count": 6,
   "metadata": {},
   "outputs": [],
   "source": [
    "name = \"STARLINK\"\n",
    "line1 = TLE_LINES[0]\n",
    "line2 = TLE_LINES[1]"
   ]
  },
  {
   "cell_type": "code",
   "execution_count": 6,
   "metadata": {},
   "outputs": [],
   "source": [
    "predictor = get_predictor_from_tle_lines(TLE_LINES)\n",
    "L = predictor.get_position(datetime.datetime(2023,1,1,17,32,55))  "
   ]
  },
  {
   "cell_type": "code",
   "execution_count": 7,
   "metadata": {},
   "outputs": [
    {
     "data": {
      "text/plain": [
       "Position(when_utc=datetime.datetime(2023, 5, 24, 9, 56, 49, 987064), position_ecef=(2785.3038860385927, -3217.8235568895525, -5470.226357090315), velocity_ecef=(4.8175716122521415, 5.771944398524003, -0.9437102787403271), error_estimate=None)"
      ]
     },
     "execution_count": 7,
     "metadata": {},
     "output_type": "execute_result"
    }
   ],
   "source": [
    "predictor.get_position(datetime.datetime.now())"
   ]
  },
  {
   "cell_type": "code",
   "execution_count": 13,
   "metadata": {},
   "outputs": [],
   "source": [
    "tle_rec = ephem.readtle(name, line1, line2)\n",
    "tle_rec.compute()\n"
   ]
  },
  {
   "attachments": {},
   "cell_type": "markdown",
   "metadata": {},
   "source": [
    "### SGP4 lib"
   ]
  },
  {
   "cell_type": "code",
   "execution_count": 7,
   "metadata": {},
   "outputs": [],
   "source": [
    "satellite=Satrec.twoline2rv(line1, line2)"
   ]
  },
  {
   "cell_type": "code",
   "execution_count": 8,
   "metadata": {},
   "outputs": [
    {
     "data": {
      "text/plain": [
       "23"
      ]
     },
     "execution_count": 8,
     "metadata": {},
     "output_type": "execute_result"
    }
   ],
   "source": [
    "satellite.epochyr"
   ]
  },
  {
   "cell_type": "code",
   "execution_count": 11,
   "metadata": {},
   "outputs": [],
   "source": [
    "e, r, v = satellite.sgp4(satellite.jdsatepoch, satellite.jdsatepochF)"
   ]
  },
  {
   "cell_type": "code",
   "execution_count": 15,
   "metadata": {},
   "outputs": [
    {
     "name": "stdout",
     "output_type": "stream",
     "text": [
      "r =  (6837.10650415244, 1100.4015126004147, -0.00161258720425325)\n",
      "v =  (-0.7321305505601278, 4.501135427880932, 6.067780802835581)\n"
     ]
    }
   ],
   "source": [
    "print(\"r = \", r)\n",
    "print(\"v = \", v)"
   ]
  },
  {
   "attachments": {},
   "cell_type": "markdown",
   "metadata": {},
   "source": [
    "### Skyfield lib"
   ]
  },
  {
   "cell_type": "code",
   "execution_count": 23,
   "metadata": {},
   "outputs": [],
   "source": [
    "from skyfield.api import load, wgs84, EarthSatellite, Topos\n",
    "import numpy as np\n"
   ]
  },
  {
   "cell_type": "code",
   "execution_count": 19,
   "metadata": {},
   "outputs": [],
   "source": [
    "ts = load.timescale()\n",
    "satellite = EarthSatellite(line1, line2, 'STARLINK', ts)\n"
   ]
  },
  {
   "cell_type": "code",
   "execution_count": 21,
   "metadata": {},
   "outputs": [
    {
     "name": "stdout",
     "output_type": "stream",
     "text": [
      "[6842659.22522678 1065219.73043605  -15182.01079798]\n"
     ]
    }
   ],
   "source": [
    "geocentric = satellite.at(satellite.epoch)\n",
    "print(geocentric.position.m)\n"
   ]
  },
  {
   "cell_type": "code",
   "execution_count": 24,
   "metadata": {},
   "outputs": [],
   "source": [
    "mine = np.array([6835086.828726, 1107352.760631, 9550.439149])"
   ]
  },
  {
   "cell_type": "code",
   "execution_count": 27,
   "metadata": {},
   "outputs": [
    {
     "data": {
      "text/plain": [
       "49439.129265730095"
      ]
     },
     "execution_count": 27,
     "metadata": {},
     "output_type": "execute_result"
    }
   ],
   "source": [
    "sum((geocentric.position.m - mine)**2)**0.5"
   ]
  },
  {
   "cell_type": "code",
   "execution_count": null,
   "metadata": {},
   "outputs": [],
   "source": []
  }
 ],
 "metadata": {
  "kernelspec": {
   "display_name": "Python 3",
   "language": "python",
   "name": "python3"
  },
  "language_info": {
   "codemirror_mode": {
    "name": "ipython",
    "version": 3
   },
   "file_extension": ".py",
   "mimetype": "text/x-python",
   "name": "python",
   "nbconvert_exporter": "python",
   "pygments_lexer": "ipython3",
   "version": "3.10.10"
  },
  "orig_nbformat": 4
 },
 "nbformat": 4,
 "nbformat_minor": 2
}
