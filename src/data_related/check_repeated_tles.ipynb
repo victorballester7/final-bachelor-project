{
 "cells": [
  {
   "cell_type": "code",
   "execution_count": 1,
   "metadata": {},
   "outputs": [],
   "source": [
    "from sgp4.api import Satrec\n",
    "import sys\n",
    "import os\n",
    "import numpy as np"
   ]
  },
  {
   "cell_type": "code",
   "execution_count": 2,
   "metadata": {},
   "outputs": [],
   "source": [
    "def check_repeated_tles(satellite_name):\n",
    "  print(\"Checking repeated tles for \"+ satellite_name)\n",
    "  filename_in = \"../../data/tle/\"+ satellite_name + \".txt\"\n",
    "  with open(filename_in, \"r\") as f:\n",
    "    lines = f.readlines()\n",
    "  Rep = []\n",
    "  for i in range(0,len(lines) - 2,2):\n",
    "    if lines[i][18:33] == lines[i+2][18:33]: # we compare the epoch\n",
    "      print(\"Repeated tle found at lines \" + str(i+1) + \" and \" + str(i+3))\n",
    "      Rep.append(i+2)\n",
    "      Rep.append(i+3)\n",
    "      # print(\"TLE: \" + lines[i])\n",
    "      # print(\"TLE: \" + lines[i+2])\n",
    "  # created a new file without repeated tles\n",
    "  if (len(Rep) > 0):\n",
    "    with open(filename_in, \"w\") as f:\n",
    "      for i in range(0,len(lines)):\n",
    "        if i not in Rep:\n",
    "          f.write(lines[i])\n",
    "  print(\"Done!\")"
   ]
  },
  {
   "cell_type": "code",
   "execution_count": 3,
   "metadata": {},
   "outputs": [],
   "source": [
    "SAT = [\"TESS\",\"TDRS-3\",\"TDRS-5\",\"STARLINK_1007\",\"SIRIUS_3\", \"NUTSAT\", \"NAVSTAR_61\",\"ISS\",\"HUBBLE\", \"GLONASS\", \"GALILEO_20\",\"GALAXY_19\",\"GALAXY_18\",\"GALAXY_16\"]"
   ]
  },
  {
   "cell_type": "code",
   "execution_count": 5,
   "metadata": {},
   "outputs": [
    {
     "name": "stdout",
     "output_type": "stream",
     "text": [
      "Checking repeated tles for TESS\n",
      "Done!\n",
      "Checking repeated tles for TDRS-3\n",
      "Done!\n",
      "Checking repeated tles for TDRS-5\n",
      "Done!\n",
      "Checking repeated tles for STARLINK_1007\n",
      "Done!\n",
      "Checking repeated tles for SIRIUS_3\n",
      "Done!\n",
      "Checking repeated tles for NUTSAT\n",
      "Done!\n",
      "Checking repeated tles for NAVSTAR_61\n",
      "Done!\n",
      "Checking repeated tles for ISS\n",
      "Done!\n",
      "Checking repeated tles for HUBBLE\n",
      "Done!\n",
      "Checking repeated tles for GLONASS\n",
      "Done!\n",
      "Checking repeated tles for GALILEO_20\n",
      "Done!\n",
      "Checking repeated tles for GALAXY_19\n",
      "Done!\n",
      "Checking repeated tles for GALAXY_18\n",
      "Done!\n",
      "Checking repeated tles for GALAXY_16\n",
      "Done!\n"
     ]
    }
   ],
   "source": [
    "for sat in SAT:\n",
    "  check_repeated_tles(sat)"
   ]
  },
  {
   "cell_type": "code",
   "execution_count": 15,
   "metadata": {},
   "outputs": [
    {
     "name": "stdout",
     "output_type": "stream",
     "text": [
      "Checking repeated tles for ISS\n",
      "Done!\n"
     ]
    }
   ],
   "source": [
    "check_repeated_tles(\"ISS\")"
   ]
  },
  {
   "cell_type": "code",
   "execution_count": 34,
   "metadata": {},
   "outputs": [],
   "source": [
    "strin=\"2 43056  55.6197 256.1940 0003683 314.1519  45.9019  1.70473956 31525\""
   ]
  },
  {
   "cell_type": "code",
   "execution_count": 36,
   "metadata": {},
   "outputs": [
    {
     "data": {
      "text/plain": [
       "'256.1940'"
      ]
     },
     "execution_count": 36,
     "metadata": {},
     "output_type": "execute_result"
    }
   ],
   "source": [
    "strin[17:25]"
   ]
  },
  {
   "cell_type": "code",
   "execution_count": null,
   "metadata": {},
   "outputs": [],
   "source": []
  }
 ],
 "metadata": {
  "kernelspec": {
   "display_name": "Python 3",
   "language": "python",
   "name": "python3"
  },
  "language_info": {
   "codemirror_mode": {
    "name": "ipython",
    "version": 3
   },
   "file_extension": ".py",
   "mimetype": "text/x-python",
   "name": "python",
   "nbconvert_exporter": "python",
   "pygments_lexer": "ipython3",
   "version": "3.11.3"
  },
  "orig_nbformat": 4
 },
 "nbformat": 4,
 "nbformat_minor": 2
}
