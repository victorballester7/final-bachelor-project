{
 "cells": [
  {
   "cell_type": "code",
   "execution_count": 11,
   "metadata": {},
   "outputs": [
    {
     "name": "stdout",
     "output_type": "stream",
     "text": [
      "Loaded 37 satellites\n"
     ]
    }
   ],
   "source": [
    "from skyfield.api import load, wgs84, EarthSatellite, Topos\n",
    "\n",
    "stations_url = 'http://celestrak.com/NORAD/elements/stations.txt'\n",
    "satellites = load.tle_file(stations_url,filename='../data/stations.txt')\n",
    "print('Loaded', len(satellites), 'satellites')\n"
   ]
  },
  {
   "cell_type": "code",
   "execution_count": 8,
   "metadata": {},
   "outputs": [
    {
     "name": "stdout",
     "output_type": "stream",
     "text": [
      "NUTSAT catalog #55124 epoch 2023-03-27 04:01:37 UTC\n",
      "[6632.75262081  545.77762958  -14.8664735 ]\n"
     ]
    }
   ],
   "source": [
    "by_name = {sat.name: sat for sat in satellites}\n",
    "satellite = by_name['NUTSAT']\n",
    "print(satellite)\n",
    "geocentric = satellite.at(satellite.epoch)\n",
    "print(geocentric.position.km)\n"
   ]
  },
  {
   "cell_type": "code",
   "execution_count": 14,
   "metadata": {},
   "outputs": [
    {
     "name": "stdout",
     "output_type": "stream",
     "text": [
      "0.0010757\n"
     ]
    }
   ],
   "source": [
    "# get the orbital elements of the satellite\n",
    "print(satellite.model.ecco)"
   ]
  },
  {
   "cell_type": "code",
   "execution_count": 28,
   "metadata": {},
   "outputs": [
    {
     "name": "stdout",
     "output_type": "stream",
     "text": [
      "Satellite Name: NUTSAT\n",
      "Epoch Time: A.D. 2023-Mar-27 04:01:37.0508 UTC\n",
      "Epoch Time (year): 23.0000000000000000\n",
      "Epoch Time (days): 86.1677899400000058\n",
      "Epoch Time (in jd): 2460030.5000000000000000\n",
      "Epoch Time (in jd, ut1): 2460030.6677900017239153\n",
      "Epoch Time (in jd, tt): 2460030.6685906806960702\n",
      "Eccentricity: 0.0010757000000000\n",
      "Inclination: 0.9010035370617967 rad\n",
      "Right Ascension of Ascending Node: 0.0872961331970004 rad\n",
      "Argument of Periapsis: 3.2879716726253054 rad\n",
      "Mean Anomaly: 2.9966657484919401 rad\n",
      "Mean Motion: 0.0011649186995195 rad/sec\n"
     ]
    }
   ],
   "source": [
    "print(f\"Satellite Name: {satellite.name}\")\n",
    "print(f\"Epoch Time: {satellite.epoch.utc_jpl()}\")\n",
    "print(f\"Epoch Time (year): {satellite.model.epochyr:.16f}\")\n",
    "print(f\"Epoch Time (days): {satellite.model.epochdays:.16f}\")\n",
    "print(f\"Epoch Time (in jd): {satellite.model.jdsatepoch:.16f}\")\n",
    "print(f\"Epoch Time (in jd, ut1): {satellite.epoch.ut1:.16f}\")\n",
    "print(f\"Epoch Time (in jd, tt): {satellite.epoch.tt:.16f}\")\n",
    "print(f\"Eccentricity: {satellite.model.ecco:.16f}\")\n",
    "print(f\"Inclination: {satellite.model.inclo:.16f} rad\")\n",
    "print(\n",
    "    f\"Right Ascension of Ascending Node: {satellite.model.nodeo:.16f} rad\")\n",
    "print(\n",
    "    f\"Argument of Periapsis: {satellite.model.argpo:.16f} rad\")\n",
    "print(f\"Mean Anomaly: {satellite.model.mo:.16f} rad\")\n",
    "print(f\"Mean Motion: {satellite.model.no_kozai/60:.16f} rad/sec\")\n"
   ]
  },
  {
   "cell_type": "code",
   "execution_count": 12,
   "metadata": {},
   "outputs": [
    {
     "ename": "AttributeError",
     "evalue": "'Topos' object has no attribute 'perifocal'",
     "output_type": "error",
     "traceback": [
      "\u001b[0;31m---------------------------------------------------------------------------\u001b[0m",
      "\u001b[0;31mAttributeError\u001b[0m                            Traceback (most recent call last)",
      "Cell \u001b[0;32mIn[12], line 8\u001b[0m\n\u001b[1;32m      5\u001b[0m topos \u001b[39m=\u001b[39m Topos(\u001b[39m*\u001b[39mposition)\n\u001b[1;32m      7\u001b[0m \u001b[39m# Transform the position vector to the perifocal coordinate system\u001b[39;00m\n\u001b[0;32m----> 8\u001b[0m r_perifocal \u001b[39m=\u001b[39m topos\u001b[39m.\u001b[39;49mperifocal(position)\n",
      "\u001b[0;31mAttributeError\u001b[0m: 'Topos' object has no attribute 'perifocal'"
     ]
    }
   ],
   "source": [
    "orbital_elements = satellite.at(satellite.epoch).to_icrs().frame_latlon(load.timescale())[-1]\n",
    "\n",
    "# Convert the orbital elements to the perifocal reference frame\n",
    "r_perifocal, v_perifocal = orbital_elements.to_perifocal()\n"
   ]
  },
  {
   "cell_type": "code",
   "execution_count": 8,
   "metadata": {},
   "outputs": [
    {
     "name": "stdout",
     "output_type": "stream",
     "text": [
      "TT date and time:  2023-03-27 04:00:00 TT\n",
      "TAI date and time: 2023-03-27 03:59:28 TAI\n",
      "UTC date and time: 2023-03-27 03:58:51 UTC\n",
      "TDB Julian date: 2460030.6666666856\n",
      "Julian century: 2023.2\n"
     ]
    }
   ],
   "source": [
    "ts = load.timescale()\n",
    "t = ts.tt(2023, 3, 27, 4, 0)\n",
    "\n",
    "print('TT date and time: ', t.tt_strftime())\n",
    "print('TAI date and time:', t.tai_strftime())\n",
    "print('UTC date and time:', t.utc_strftime())\n",
    "print('TDB Julian date: {:.10f}'.format(t.tdb))\n",
    "print('Julian century: {:.1f}'.format(t.J))\n"
   ]
  },
  {
   "cell_type": "code",
   "execution_count": 6,
   "metadata": {},
   "outputs": [
    {
     "name": "stdout",
     "output_type": "stream",
     "text": [
      "[-1.80793098e+20  5.94625549e+19 -1.48671928e+20]\n",
      "Latitude: -38deg 04' 18.9\"\n",
      "Longitude: -130deg 17' 20.3\"\n",
      "distance from earth center: 2.415062770180053e+20 km\n"
     ]
    }
   ],
   "source": [
    "ts = load.timescale()\n",
    "t = ts.utc(2014, 1, 23, 11, 18, 7)\n",
    "\n",
    "geocentric = satellite.at(t)\n",
    "print(geocentric.position.km)\n",
    "\n",
    "lat, lon = wgs84.latlon_of(geocentric)\n",
    "print('Latitude:', lat)\n",
    "print('Longitude:', lon)\n",
    "print('distance from earth center:', geocentric.distance().km, 'km')"
   ]
  },
  {
   "cell_type": "code",
   "execution_count": 7,
   "metadata": {},
   "outputs": [
    {
     "name": "stdout",
     "output_type": "stream",
     "text": [
      "TT date and time:  2014-01-23 11:19:14 TT\n",
      "TAI date and time: 2014-01-23 11:18:42 TAI\n",
      "UTC date and time: 2014-01-23 11:18:07 UTC\n",
      "TDB Julian date: 2456680.9716919512\n",
      "Julian century: 2014.1\n"
     ]
    }
   ],
   "source": [
    "\n",
    "print('TT date and time: ', t.tt_strftime())\n",
    "print('TAI date and time:', t.tai_strftime())\n",
    "print('UTC date and time:', t.utc_strftime())\n",
    "print('TDB Julian date: {:.10f}'.format(t.tdb))\n",
    "print('Julian century: {:.1f}'.format(t.J))\n"
   ]
  },
  {
   "cell_type": "code",
   "execution_count": null,
   "metadata": {},
   "outputs": [],
   "source": []
  }
 ],
 "metadata": {
  "kernelspec": {
   "display_name": "Python 3",
   "language": "python",
   "name": "python3"
  },
  "language_info": {
   "codemirror_mode": {
    "name": "ipython",
    "version": 3
   },
   "file_extension": ".py",
   "mimetype": "text/x-python",
   "name": "python",
   "nbconvert_exporter": "python",
   "pygments_lexer": "ipython3",
   "version": "3.10.10"
  },
  "orig_nbformat": 4
 },
 "nbformat": 4,
 "nbformat_minor": 2
}
