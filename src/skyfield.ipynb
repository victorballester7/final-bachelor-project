{
 "cells": [
  {
   "cell_type": "code",
   "execution_count": 7,
   "metadata": {},
   "outputs": [
    {
     "name": "stdout",
     "output_type": "stream",
     "text": [
      "Loaded 37 satellites\n"
     ]
    }
   ],
   "source": [
    "from skyfield.api import load, wgs84, EarthSatellite, Topos\n",
    "\n",
    "stations_url = 'http://celestrak.com/NORAD/elements/stations.txt'\n",
    "satellites = load.tle_file(stations_url,filename='../data/stations.txt')\n",
    "print('Loaded', len(satellites), 'satellites')\n",
    "ts = load.timescale()\n",
    "planets = load('de421.bsp')\n",
    "earth = planets['earth']\n"
   ]
  },
  {
   "cell_type": "code",
   "execution_count": 8,
   "metadata": {},
   "outputs": [
    {
     "name": "stdout",
     "output_type": "stream",
     "text": [
      "NUTSAT catalog #55124 epoch 2023-03-27 04:01:37 UTC\n",
      "[6632.75262081  545.77762958  -14.8664735 ]\n"
     ]
    },
    {
     "ename": "ValueError",
     "evalue": "please provide the at() method with a Time instance as its argument, instead of the value <Geocentric ICRS position and velocity at date t center=399 target=-155124>",
     "output_type": "error",
     "traceback": [
      "\u001b[0;31m---------------------------------------------------------------------------\u001b[0m",
      "\u001b[0;31mValueError\u001b[0m                                Traceback (most recent call last)",
      "Cell \u001b[0;32mIn[8], line 7\u001b[0m\n\u001b[1;32m      5\u001b[0m \u001b[39mprint\u001b[39m(geocentric\u001b[39m.\u001b[39mposition\u001b[39m.\u001b[39mkm)\n\u001b[1;32m      6\u001b[0m \u001b[39m# Compute the ECEF coordinates\u001b[39;00m\n\u001b[0;32m----> 7\u001b[0m ecef \u001b[39m=\u001b[39m earth\u001b[39m.\u001b[39;49mat(geocentric)\u001b[39m.\u001b[39mposition\u001b[39m.\u001b[39mkm\n\u001b[1;32m      8\u001b[0m \u001b[39mprint\u001b[39m(ecef)\n\u001b[1;32m      9\u001b[0m \u001b[39m# Compute the perifocal coordinates\u001b[39;00m\n",
      "File \u001b[0;32m/usr/lib/python3.10/site-packages/skyfield/vectorlib.py:89\u001b[0m, in \u001b[0;36mVectorFunction.at\u001b[0;34m(self, t)\u001b[0m\n\u001b[1;32m     75\u001b[0m \u001b[39m\u001b[39m\u001b[39m\"\"\"At time ``t``, compute the target's position relative to the center.\u001b[39;00m\n\u001b[1;32m     76\u001b[0m \n\u001b[1;32m     77\u001b[0m \u001b[39mIf ``t`` is an array of times, then the returned position object\u001b[39;00m\n\u001b[0;32m   (...)\u001b[0m\n\u001b[1;32m     86\u001b[0m \n\u001b[1;32m     87\u001b[0m \u001b[39m\"\"\"\u001b[39;00m\n\u001b[1;32m     88\u001b[0m \u001b[39mif\u001b[39;00m \u001b[39mnot\u001b[39;00m \u001b[39misinstance\u001b[39m(t, Time):\n\u001b[0;32m---> 89\u001b[0m     \u001b[39mraise\u001b[39;00m \u001b[39mValueError\u001b[39;00m(\u001b[39m'\u001b[39m\u001b[39mplease provide the at() method with a Time\u001b[39m\u001b[39m'\u001b[39m\n\u001b[1;32m     90\u001b[0m                      \u001b[39m'\u001b[39m\u001b[39m instance as its argument, instead of the\u001b[39m\u001b[39m'\u001b[39m\n\u001b[1;32m     91\u001b[0m                      \u001b[39m'\u001b[39m\u001b[39m value \u001b[39m\u001b[39m{0!r}\u001b[39;00m\u001b[39m'\u001b[39m\u001b[39m.\u001b[39mformat(t))\n\u001b[1;32m     92\u001b[0m p, v, gcrs_position, message \u001b[39m=\u001b[39m \u001b[39mself\u001b[39m\u001b[39m.\u001b[39m_at(t)\n\u001b[1;32m     93\u001b[0m center \u001b[39m=\u001b[39m \u001b[39mself\u001b[39m\u001b[39m.\u001b[39mcenter\n",
      "\u001b[0;31mValueError\u001b[0m: please provide the at() method with a Time instance as its argument, instead of the value <Geocentric ICRS position and velocity at date t center=399 target=-155124>"
     ]
    }
   ],
   "source": [
    "by_name = {sat.name: sat for sat in satellites}\n",
    "satellite = by_name['NUTSAT']\n",
    "print(satellite)\n",
    "geocentric = satellite.at(satellite.epoch) # ITRS \\sim J2000\n",
    "print(geocentric.position.km)\n",
    "# Compute the ECEF coordinates\n",
    "geocentric.frame_xyz(itrs)\n",
    "# Compute the perifocal coordinates\n",
    "perifocal = satellite.frame_latlon(geocentric).position.km\n",
    "print(perifocal)"
   ]
  },
  {
   "cell_type": "code",
   "execution_count": 3,
   "metadata": {},
   "outputs": [
    {
     "name": "stdout",
     "output_type": "stream",
     "text": [
      "Satellite Name: NUTSAT\n",
      "Epoch Time: A.D. 2023-Mar-27 04:01:37.0508 UTC\n",
      "Epoch Time (year): 23.0000000000000000\n",
      "Epoch Time (days): 86.1677899400000058\n",
      "Epoch Time (in jd): 2460030.5000000000000000\n",
      "Epoch Time (in jd, ut1): 2460030.6677900017239153\n",
      "Epoch Time (in jd, tt): 2460030.6685906806960702\n",
      "Inclination: 0.9010035370617967 rad\n",
      "Right Ascension of Ascending Node: 0.0872961331970004 rad\n",
      "Eccentricity: 0.0010757000000000\n",
      "Argument of Periapsis: 3.2879716726253054 rad\n",
      "Mean Anomaly: 2.9966657484919401 rad\n",
      "Mean Motion: 0.0011649186995195 rad/sec\n"
     ]
    }
   ],
   "source": [
    "print(f\"Satellite Name: {satellite.name}\")\n",
    "print(f\"Epoch Time: {satellite.epoch.utc_jpl()}\")\n",
    "print(f\"Epoch Time (year): {satellite.model.epochyr:.16f}\")\n",
    "print(f\"Epoch Time (days): {satellite.model.epochdays:.16f}\")\n",
    "print(f\"Epoch Time (in jd): {satellite.model.jdsatepoch:.16f}\")\n",
    "print(f\"Epoch Time (in jd, ut1): {satellite.epoch.ut1:.16f}\")\n",
    "print(f\"Epoch Time (in jd, tt): {satellite.epoch.tt:.16f}\")\n",
    "#print(f\"Epoch Time (in jd, gmst): {satellite.epoch.gmst:.16f}\")\n",
    "print(f\"Inclination: {satellite.model.inclo:.16f} rad\")\n",
    "print(\n",
    "    f\"Right Ascension of Ascending Node: {satellite.model.nodeo:.16f} rad\")\n",
    "print(f\"Eccentricity: {satellite.model.ecco:.16f}\")\n",
    "print(\n",
    "    f\"Argument of Periapsis: {satellite.model.argpo:.16f} rad\")\n",
    "print(f\"Mean Anomaly: {satellite.model.mo:.16f} rad\")\n",
    "print(f\"Mean Motion: {satellite.model.no_kozai/60:.16f} rad/sec\")\n"
   ]
  },
  {
   "cell_type": "code",
   "execution_count": 12,
   "metadata": {},
   "outputs": [
    {
     "ename": "AttributeError",
     "evalue": "'Topos' object has no attribute 'perifocal'",
     "output_type": "error",
     "traceback": [
      "\u001b[0;31m---------------------------------------------------------------------------\u001b[0m",
      "\u001b[0;31mAttributeError\u001b[0m                            Traceback (most recent call last)",
      "Cell \u001b[0;32mIn[12], line 8\u001b[0m\n\u001b[1;32m      5\u001b[0m topos \u001b[39m=\u001b[39m Topos(\u001b[39m*\u001b[39mposition)\n\u001b[1;32m      7\u001b[0m \u001b[39m# Transform the position vector to the perifocal coordinate system\u001b[39;00m\n\u001b[0;32m----> 8\u001b[0m r_perifocal \u001b[39m=\u001b[39m topos\u001b[39m.\u001b[39;49mperifocal(position)\n",
      "\u001b[0;31mAttributeError\u001b[0m: 'Topos' object has no attribute 'perifocal'"
     ]
    }
   ],
   "source": [
    "orbital_elements = satellite.at(satellite.epoch).to_icrs().frame_latlon(load.timescale())[-1]\n",
    "\n",
    "# Convert the orbital elements to the perifocal reference frame\n",
    "r_perifocal, v_perifocal = orbital_elements.to_perifocal()\n"
   ]
  },
  {
   "cell_type": "code",
   "execution_count": 8,
   "metadata": {},
   "outputs": [
    {
     "name": "stdout",
     "output_type": "stream",
     "text": [
      "TT date and time:  2023-03-27 04:00:00 TT\n",
      "TAI date and time: 2023-03-27 03:59:28 TAI\n",
      "UTC date and time: 2023-03-27 03:58:51 UTC\n",
      "TDB Julian date: 2460030.6666666856\n",
      "Julian century: 2023.2\n"
     ]
    }
   ],
   "source": [
    "ts = load.timescale()\n",
    "t = ts.tt(2023, 3, 27, 4, 0)\n",
    "\n",
    "print('TT date and time: ', t.tt_strftime())\n",
    "print('TAI date and time:', t.tai_strftime())\n",
    "print('UTC date and time:', t.utc_strftime())\n",
    "print('TDB Julian date: {:.10f}'.format(t.tdb))\n",
    "print('Julian century: {:.1f}'.format(t.J))\n"
   ]
  },
  {
   "cell_type": "code",
   "execution_count": 6,
   "metadata": {},
   "outputs": [
    {
     "name": "stdout",
     "output_type": "stream",
     "text": [
      "[-1.80793098e+20  5.94625549e+19 -1.48671928e+20]\n",
      "Latitude: -38deg 04' 18.9\"\n",
      "Longitude: -130deg 17' 20.3\"\n",
      "distance from earth center: 2.415062770180053e+20 km\n"
     ]
    }
   ],
   "source": [
    "ts = load.timescale()\n",
    "t = ts.utc(2014, 1, 23, 11, 18, 7)\n",
    "\n",
    "geocentric = satellite.at(t)\n",
    "print(geocentric.position.km)\n",
    "\n",
    "lat, lon = wgs84.latlon_of(geocentric)\n",
    "print('Latitude:', lat)\n",
    "print('Longitude:', lon)\n",
    "print('distance from earth center:', geocentric.distance().km, 'km')"
   ]
  },
  {
   "cell_type": "code",
   "execution_count": 7,
   "metadata": {},
   "outputs": [
    {
     "name": "stdout",
     "output_type": "stream",
     "text": [
      "TT date and time:  2014-01-23 11:19:14 TT\n",
      "TAI date and time: 2014-01-23 11:18:42 TAI\n",
      "UTC date and time: 2014-01-23 11:18:07 UTC\n",
      "TDB Julian date: 2456680.9716919512\n",
      "Julian century: 2014.1\n"
     ]
    }
   ],
   "source": [
    "\n",
    "print('TT date and time: ', t.tt_strftime())\n",
    "print('TAI date and time:', t.tai_strftime())\n",
    "print('UTC date and time:', t.utc_strftime())\n",
    "print('TDB Julian date: {:.10f}'.format(t.tdb))\n",
    "print('Julian century: {:.1f}'.format(t.J))\n"
   ]
  },
  {
   "cell_type": "code",
   "execution_count": null,
   "metadata": {},
   "outputs": [],
   "source": []
  }
 ],
 "metadata": {
  "kernelspec": {
   "display_name": "Python 3",
   "language": "python",
   "name": "python3"
  },
  "language_info": {
   "codemirror_mode": {
    "name": "ipython",
    "version": 3
   },
   "file_extension": ".py",
   "mimetype": "text/x-python",
   "name": "python",
   "nbconvert_exporter": "python",
   "pygments_lexer": "ipython3",
   "version": "3.10.10"
  },
  "orig_nbformat": 4
 },
 "nbformat": 4,
 "nbformat_minor": 2
}
